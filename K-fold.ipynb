{
 "cells": [
  {
   "cell_type": "code",
   "execution_count": 90,
   "id": "f97b7372",
   "metadata": {},
   "outputs": [],
   "source": [
    "import pandas as pd\n",
    "from sklearn.datasets import load_digits\n",
    "import numpy as np\n",
    "from sklearn.model_selection import train_test_split\n",
    "from sklearn.ensemble import RandomForestClassifier\n",
    "from sklearn.svm import SVC\n",
    "from sklearn.linear_model import LogisticRegression"
   ]
  },
  {
   "cell_type": "code",
   "execution_count": 91,
   "id": "9359dddc",
   "metadata": {},
   "outputs": [],
   "source": [
    "digits  = load_digits()"
   ]
  },
  {
   "cell_type": "code",
   "execution_count": 92,
   "id": "5c196fd2",
   "metadata": {},
   "outputs": [],
   "source": [
    "X_train, X_test, y_train, y_test = train_test_split(digits.data, digits.target, test_size=0.33, random_state=42)"
   ]
  },
  {
   "cell_type": "code",
   "execution_count": 93,
   "id": "e4c43a79",
   "metadata": {},
   "outputs": [
    {
     "data": {
      "text/plain": [
       "0.9730639730639731"
      ]
     },
     "execution_count": 93,
     "metadata": {},
     "output_type": "execute_result"
    }
   ],
   "source": [
    "lr = LogisticRegression(max_iter = 7600)\n",
    "lr.fit(X_train, y_train)\n",
    "lr.score(X_test,y_test)"
   ]
  },
  {
   "cell_type": "code",
   "execution_count": 94,
   "id": "6e42b028",
   "metadata": {},
   "outputs": [
    {
     "data": {
      "text/plain": [
       "0.9865319865319865"
      ]
     },
     "execution_count": 94,
     "metadata": {},
     "output_type": "execute_result"
    }
   ],
   "source": [
    "sv = SVC()\n",
    "sv.fit(X_train, y_train)\n",
    "sv.score(X_test,y_test)"
   ]
  },
  {
   "cell_type": "code",
   "execution_count": 95,
   "id": "16a07742",
   "metadata": {},
   "outputs": [
    {
     "data": {
      "text/plain": [
       "0.9764309764309764"
      ]
     },
     "execution_count": 95,
     "metadata": {},
     "output_type": "execute_result"
    }
   ],
   "source": [
    "rf = RandomForestClassifier()\n",
    "rf.fit(X_train, y_train)\n",
    "rf.score(X_test,y_test)"
   ]
  },
  {
   "cell_type": "code",
   "execution_count": 96,
   "id": "89767c9e",
   "metadata": {},
   "outputs": [],
   "source": [
    "\"created function to run diffrent model to get score\"\n",
    "def get_score(model,X_train, y_train,X_test,y_test):\n",
    "    model.fit(X_train,y_train)\n",
    "    return model.score(X_test,y_test)"
   ]
  },
  {
   "cell_type": "code",
   "execution_count": 97,
   "id": "a401dff9",
   "metadata": {},
   "outputs": [
    {
     "data": {
      "text/plain": [
       "0.9730639730639731"
      ]
     },
     "execution_count": 97,
     "metadata": {},
     "output_type": "execute_result"
    }
   ],
   "source": [
    "get_score(lr,X_train,y_train,X_test,y_test)"
   ]
  },
  {
   "cell_type": "code",
   "execution_count": 98,
   "id": "8917e6c0",
   "metadata": {},
   "outputs": [
    {
     "data": {
      "text/plain": [
       "(1797,)"
      ]
     },
     "execution_count": 98,
     "metadata": {},
     "output_type": "execute_result"
    }
   ],
   "source": [
    "digits.target.shape"
   ]
  },
  {
   "cell_type": "code",
   "execution_count": 99,
   "id": "524495e8",
   "metadata": {},
   "outputs": [
    {
     "data": {
      "text/plain": [
       "(1797, 64)"
      ]
     },
     "execution_count": 99,
     "metadata": {},
     "output_type": "execute_result"
    }
   ],
   "source": [
    "digits.data.shape"
   ]
  },
  {
   "cell_type": "code",
   "execution_count": 100,
   "id": "0a6deacf",
   "metadata": {},
   "outputs": [],
   "source": [
    "\" this works better than train_test_split\"\n",
    "\"this also split the o/p values using given n_split \"\n",
    "\"this works better on ramdom output values\"\n",
    "from sklearn.model_selection import KFold"
   ]
  },
  {
   "cell_type": "code",
   "execution_count": 101,
   "id": "e513d063",
   "metadata": {},
   "outputs": [],
   "source": [
    "fold = KFold(n_splits=3)"
   ]
  },
  {
   "cell_type": "code",
   "execution_count": 102,
   "id": "88aa90f9",
   "metadata": {},
   "outputs": [],
   "source": [
    "import numpy as np"
   ]
  },
  {
   "cell_type": "code",
   "execution_count": 103,
   "id": "e76d32e7",
   "metadata": {},
   "outputs": [],
   "source": [
    "lr_score = []\n",
    "sv_score = []\n",
    "rf_score = []\n"
   ]
  },
  {
   "cell_type": "code",
   "execution_count": 104,
   "id": "8077edad",
   "metadata": {},
   "outputs": [],
   "source": [
    "\"created for loop to get the average score from diffent model\"\n",
    "for train_index, test_index in fold.split(digits.data, digits.target):\n",
    "    X_train,X_test = digits.data[train_index], digits.data[test_index]\n",
    "    y_train,y_test = digits.target[train_index], digits.target[test_index]\n",
    "#     print(X_train.shape)\n",
    "#     print(X_test.shape)\n",
    "#     print(y_train.shape)\n",
    "#     print(y_test.shape)\n",
    "    \n",
    "    lr_score.append(get_score(lr,X_train,y_train,X_test,y_test))\n",
    "    sv_score.append(get_score(sv,X_train,y_train,X_test,y_test))\n",
    "    rf_score.append(get_score(rf,X_train,y_train,X_test,y_test))\n",
    "    "
   ]
  },
  {
   "cell_type": "code",
   "execution_count": 105,
   "id": "a79a9584",
   "metadata": {},
   "outputs": [
    {
     "data": {
      "text/plain": [
       "0.9287701725097385"
      ]
     },
     "execution_count": 105,
     "metadata": {},
     "output_type": "execute_result"
    }
   ],
   "source": [
    "np.mean(lr_score)"
   ]
  },
  {
   "cell_type": "code",
   "execution_count": 106,
   "id": "b73817e7",
   "metadata": {},
   "outputs": [
    {
     "data": {
      "text/plain": [
       "0.9677239844184752"
      ]
     },
     "execution_count": 106,
     "metadata": {},
     "output_type": "execute_result"
    }
   ],
   "source": [
    "np.mean(sv_score)"
   ]
  },
  {
   "cell_type": "code",
   "execution_count": 107,
   "id": "b7fc0673",
   "metadata": {},
   "outputs": [
    {
     "data": {
      "text/plain": [
       "0.9343350027824151"
      ]
     },
     "execution_count": 107,
     "metadata": {},
     "output_type": "execute_result"
    }
   ],
   "source": [
    "np.mean(rf_score)"
   ]
  },
  {
   "cell_type": "code",
   "execution_count": 108,
   "id": "11b9439f",
   "metadata": {},
   "outputs": [],
   "source": [
    "\"this works better on iris data o/p values(0,0,0,1,1,1,2,2,2)\"\n",
    "from sklearn.model_selection import StratifiedKFold"
   ]
  },
  {
   "cell_type": "code",
   "execution_count": 109,
   "id": "00424c09",
   "metadata": {},
   "outputs": [],
   "source": [
    "kf = StratifiedKFold(n_splits=2)"
   ]
  },
  {
   "cell_type": "code",
   "execution_count": 110,
   "id": "85535a1e",
   "metadata": {},
   "outputs": [],
   "source": [
    "lr_score = []\n",
    "sv_score = []\n",
    "rf_score = []\n"
   ]
  },
  {
   "cell_type": "code",
   "execution_count": 111,
   "id": "72a3d62f",
   "metadata": {},
   "outputs": [],
   "source": [
    "for train_index, test_index in kf.split(digits.data, digits.target):\n",
    "    X_train,X_test = digits.data[train_index], digits.data[test_index]\n",
    "    y_train,y_test = digits.target[train_index], digits.target[test_index]\n",
    "#     print(X_train.shape)\n",
    "#     print(X_test.shape)\n",
    "#     print(y_train.shape)\n",
    "#     print(y_test.shape)\n",
    "    \n",
    "    lr_score.append(get_score(lr,X_train,y_train,X_test,y_test))\n",
    "    sv_score.append(get_score(sv,X_train,y_train,X_test,y_test))\n",
    "    rf_score.append(get_score(rf,X_train,y_train,X_test,y_test))\n",
    "    "
   ]
  },
  {
   "cell_type": "code",
   "execution_count": 112,
   "id": "a3932f5c",
   "metadata": {},
   "outputs": [
    {
     "data": {
      "text/plain": [
       "0.9215423719995739"
      ]
     },
     "execution_count": 112,
     "metadata": {},
     "output_type": "execute_result"
    }
   ],
   "source": [
    "np.mean(lr_score)"
   ]
  },
  {
   "cell_type": "code",
   "execution_count": 113,
   "id": "90498107",
   "metadata": {},
   "outputs": [
    {
     "data": {
      "text/plain": [
       "0.9571523419984096"
      ]
     },
     "execution_count": 113,
     "metadata": {},
     "output_type": "execute_result"
    }
   ],
   "source": [
    "np.mean(sv_score)"
   ]
  },
  {
   "cell_type": "code",
   "execution_count": 114,
   "id": "c0b989c5",
   "metadata": {},
   "outputs": [
    {
     "data": {
      "text/plain": [
       "0.9254337286418217"
      ]
     },
     "execution_count": 114,
     "metadata": {},
     "output_type": "execute_result"
    }
   ],
   "source": [
    "np.mean(rf_score)"
   ]
  },
  {
   "cell_type": "code",
   "execution_count": 116,
   "id": "ef995e60",
   "metadata": {},
   "outputs": [],
   "source": [
    "'in this we can do model fitting and get score  using all hyper tuning parameter'\n",
    "from sklearn.model_selection import cross_val_score"
   ]
  },
  {
   "cell_type": "code",
   "execution_count": 117,
   "id": "c4d1ac80",
   "metadata": {},
   "outputs": [
    {
     "data": {
      "text/plain": [
       "array([0.925     , 0.87777778, 0.93871866, 0.93314763, 0.89693593])"
      ]
     },
     "execution_count": 117,
     "metadata": {},
     "output_type": "execute_result"
    }
   ],
   "source": [
    "cross_val_score(LogisticRegression(max_iter=7600), digits.data,digits.target, cv = 5)"
   ]
  },
  {
   "cell_type": "code",
   "execution_count": 118,
   "id": "8faf8e14",
   "metadata": {},
   "outputs": [
    {
     "data": {
      "text/plain": [
       "array([0.96111111, 0.94444444, 0.98328691, 0.98885794, 0.93871866])"
      ]
     },
     "execution_count": 118,
     "metadata": {},
     "output_type": "execute_result"
    }
   ],
   "source": [
    "cross_val_score(SVC(), digits.data,digits.target, cv = 5)"
   ]
  },
  {
   "cell_type": "code",
   "execution_count": 119,
   "id": "f2937d74",
   "metadata": {},
   "outputs": [
    {
     "data": {
      "text/plain": [
       "array([0.92777778, 0.91388889, 0.9637883 , 0.97214485, 0.92479109])"
      ]
     },
     "execution_count": 119,
     "metadata": {},
     "output_type": "execute_result"
    }
   ],
   "source": [
    "cross_val_score(RandomForestClassifier(), digits.data,digits.target, cv = 5)"
   ]
  },
  {
   "cell_type": "code",
   "execution_count": 121,
   "id": "a4732791",
   "metadata": {},
   "outputs": [
    {
     "data": {
      "text/plain": [
       "array([0.98055556, 0.95833333, 0.98328691, 0.98885794, 0.95821727])"
      ]
     },
     "execution_count": 121,
     "metadata": {},
     "output_type": "execute_result"
    }
   ],
   "source": [
    "cross_val_score(SVC(C= 10), digits.data,digits.target, cv = 5)"
   ]
  },
  {
   "cell_type": "code",
   "execution_count": null,
   "id": "15eaf605",
   "metadata": {},
   "outputs": [],
   "source": []
  }
 ],
 "metadata": {
  "kernelspec": {
   "display_name": "Python 3 (ipykernel)",
   "language": "python",
   "name": "python3"
  },
  "language_info": {
   "codemirror_mode": {
    "name": "ipython",
    "version": 3
   },
   "file_extension": ".py",
   "mimetype": "text/x-python",
   "name": "python",
   "nbconvert_exporter": "python",
   "pygments_lexer": "ipython3",
   "version": "3.9.12"
  }
 },
 "nbformat": 4,
 "nbformat_minor": 5
}
